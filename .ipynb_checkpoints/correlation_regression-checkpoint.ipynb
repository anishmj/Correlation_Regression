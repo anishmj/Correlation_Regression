{
 "cells": [
  {
   "cell_type": "code",
   "execution_count": 1,
   "id": "26a02caf",
   "metadata": {},
   "outputs": [],
   "source": [
    "import math\n",
    "import matplotlib.pyplot as plt\n",
    "import numpy as np"
   ]
  },
  {
   "cell_type": "code",
   "execution_count": 12,
   "id": "e0436652",
   "metadata": {},
   "outputs": [
    {
     "name": "stdout",
     "output_type": "stream",
     "text": [
      "65 66 67 67 68 69 70 71\n"
     ]
    }
   ],
   "source": [
    "x=[int(i) for i in input().split()]"
   ]
  },
  {
   "cell_type": "code",
   "execution_count": 13,
   "id": "dc450835",
   "metadata": {},
   "outputs": [
    {
     "name": "stdout",
     "output_type": "stream",
     "text": [
      "67 68 65 68 72 72 69 71\n"
     ]
    }
   ],
   "source": [
    "y =[int(i) for i in input().split()]"
   ]
  },
  {
   "cell_type": "code",
   "execution_count": 14,
   "id": "2f9d8011",
   "metadata": {},
   "outputs": [],
   "source": [
    "N= len(x)"
   ]
  },
  {
   "cell_type": "code",
   "execution_count": null,
   "id": "b05bac08",
   "metadata": {},
   "outputs": [],
   "source": []
  }
 ],
 "metadata": {
  "kernelspec": {
   "display_name": "Python 3",
   "language": "python",
   "name": "python3"
  },
  "language_info": {
   "codemirror_mode": {
    "name": "ipython",
    "version": 3
   },
   "file_extension": ".py",
   "mimetype": "text/x-python",
   "name": "python",
   "nbconvert_exporter": "python",
   "pygments_lexer": "ipython3",
   "version": "3.8.8"
  }
 },
 "nbformat": 4,
 "nbformat_minor": 5
}
