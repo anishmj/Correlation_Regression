{
 "cells": [
  {
   "cell_type": "code",
   "execution_count": 31,
   "id": "26a02caf",
   "metadata": {},
   "outputs": [],
   "source": [
    "import math\n",
    "import matplotlib.pyplot as plt\n",
    "import numpy as np"
   ]
  },
  {
   "cell_type": "code",
   "execution_count": 32,
   "id": "e0436652",
   "metadata": {},
   "outputs": [
    {
     "name": "stdout",
     "output_type": "stream",
     "text": [
      "65 66 67 67 68 69 70 71\n"
     ]
    }
   ],
   "source": [
    "x=[int(i) for i in input().split()]"
   ]
  },
  {
   "cell_type": "code",
   "execution_count": 36,
   "id": "dc450835",
   "metadata": {},
   "outputs": [
    {
     "name": "stdout",
     "output_type": "stream",
     "text": [
      "67 68 65 68 72 72 69 71\n"
     ]
    }
   ],
   "source": [
    "y =[int(i) for i in input().split()]"
   ]
  },
  {
   "cell_type": "code",
   "execution_count": 37,
   "id": "a709c135",
   "metadata": {},
   "outputs": [],
   "source": [
    "N= len(x)"
   ]
  },
  {
   "cell_type": "code",
   "execution_count": 38,
   "id": "88df1e6b",
   "metadata": {},
   "outputs": [],
   "source": [
    "Sx= 0\n",
    "Sy =0\n",
    "Sxy =0\n",
    "Sx2 =0\n",
    "Sy2 =0"
   ]
  },
  {
   "cell_type": "code",
   "execution_count": 46,
   "id": "8ea0d007",
   "metadata": {},
   "outputs": [],
   "source": [
    "for i in range(0,N):\n",
    "  Sx=Sx+x[i]\n",
    "  Sy=Sy+y[i]\n",
    "  Sxy=Sxy+x[i]*y[i]\n",
    "  Sx2=Sx2+x[i]**2\n",
    "  Sy2=Sy2+y[i]**2"
   ]
  },
  {
   "cell_type": "code",
   "execution_count": 47,
   "id": "827ab4ef",
   "metadata": {},
   "outputs": [
    {
     "name": "stdout",
     "output_type": "stream",
     "text": [
      "587.8000000000001\n",
      "1104\n",
      "40626.600000000006\n",
      "37243.4\n",
      "76264\n"
     ]
    }
   ],
   "source": [
    "print(Sx)\n",
    "print(Sy)\n",
    "print(Sxy)\n",
    "print(Sx2)\n",
    "print(Sy2)"
   ]
  },
  {
   "cell_type": "code",
   "execution_count": 40,
   "id": "4c7210bc",
   "metadata": {},
   "outputs": [],
   "source": [
    "r=(N*Sxy-Sx*Sy)/(math.sqrt(N*Sx2-Sx**2)*math.sqrt(N*Sy2-Sy**2))"
   ]
  },
  {
   "cell_type": "code",
   "execution_count": 41,
   "id": "cd24b66d",
   "metadata": {},
   "outputs": [
    {
     "name": "stdout",
     "output_type": "stream",
     "text": [
      "The Correlation coefficient is 0.617\n"
     ]
    }
   ],
   "source": [
    "print(\"The Correlation coefficient is %0.3f\"%r)\n"
   ]
  },
  {
   "cell_type": "code",
   "execution_count": 42,
   "id": "8d42b554",
   "metadata": {},
   "outputs": [],
   "source": [
    "byx=(N*Sxy-Sx*Sy)/(N*Sx2-Sx**2)\n"
   ]
  },
  {
   "cell_type": "code",
   "execution_count": 48,
   "id": "5ce4b402",
   "metadata": {},
   "outputs": [
    {
     "name": "stdout",
     "output_type": "stream",
     "text": [
      "0.7619047619047619\n"
     ]
    }
   ],
   "source": [
    "print(byx)"
   ]
  },
  {
   "cell_type": "code",
   "execution_count": 44,
   "id": "e2bcde67",
   "metadata": {},
   "outputs": [
    {
     "name": "stdout",
     "output_type": "stream",
     "text": [
      "THe Regression line Y on X is ::: y = 69.000 + 0.762 (x-67.875)\n"
     ]
    }
   ],
   "source": [
    "xmean=Sx/N\n",
    "ymean=Sy/N\n",
    "print(\"THe Regression line Y on X is ::: y = %0.3f + %0.3f (x-%0.3f)\"%(ymean,byx,xmean))\n"
   ]
  },
  {
   "cell_type": "code",
   "execution_count": 45,
   "id": "a356980b",
   "metadata": {},
   "outputs": [
    {
     "name": "stdout",
     "output_type": "stream",
     "text": [
      "THe Regression line Y on X is ::: y = 69.000 + 0.762 (x-67.875)\n"
     ]
    },
    {
     "data": {
      "text/plain": [
       "<matplotlib.legend.Legend at 0x20543d963d0>"
      ]
     },
     "execution_count": 45,
     "metadata": {},
     "output_type": "execute_result"
    },
    {
     "data": {
      "image/png": "[encoded data removed]",
      "text/plain": [
       "<Figure size 432x288 with 1 Axes>"
      ]
     },
     "metadata": {
      "needs_background": "light"
     },
     "output_type": "display_data"
    }
   ],
   "source": [
    "xmean=Sx/N\n",
    "ymean=Sy/N\n",
    "print(\"THe Regression line Y on X is ::: y = %0.3f + %0.3f (x-%0.3f)\"%(ymean,byx,xmean))\n",
    "plt.scatter(x,y)\n",
    "def Reg(x):\n",
    "  return ymean + byx*(x-xmean)\n",
    "x=np.linspace(0,80,51)\n",
    "y1=Reg(x)\n",
    "plt.plot(x,y1,'r')\n",
    "plt.xlabel('x-data')\n",
    "plt.ylabel('y-data')\n",
    "plt.legend(['Regression Line','Data points'])"
   ]
  },
  {
   "cell_type": "code",
   "execution_count": null,
   "id": "4d767a7d",
   "metadata": {},
   "outputs": [],
   "source": []
  }
 ],
 "metadata": {
  "kernelspec": {
   "display_name": "Python 3",
   "language": "python",
   "name": "python3"
  },
  "language_info": {
   "codemirror_mode": {
    "name": "ipython",
    "version": 3
   },
   "file_extension": ".py",
   "mimetype": "text/x-python",
   "name": "python",
   "nbconvert_exporter": "python",
   "pygments_lexer": "ipython3",
   "version": "3.8.8"
  }
 },
 "nbformat": 4,
 "nbformat_minor": 5
}
